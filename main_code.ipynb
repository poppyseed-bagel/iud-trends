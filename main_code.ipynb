{
 "cells": [
  {
   "cell_type": "markdown",
   "id": "566057ed",
   "metadata": {},
   "source": [
    "# Exploring the information gap between formal and informal sources for women’s birth control (IUD)"
   ]
  },
  {
   "cell_type": "markdown",
   "id": "99ec4285",
   "metadata": {},
   "source": [
    "### **Guide**\n",
    "1. [Introduction](#Intro)\n",
    "2. [Research Questions](#RQ)\n",
    "3. [Data Acquisition and Cleaning](#acq)\n",
    "4. [Exploratory Data Analysis](#eda)\n",
    "5. [Advanced Data Processing](#process)\n",
    "    1. [Sentiment Analysis](#sentiment)\n",
    "        1. [Question 1](#q1)\n",
    "    2. [Classification / Tokenization](#class)\n",
    "        2. [Question 2](#q2)\n",
    "    3. [Prediction and Evaluation](#eval)\n",
    "        3. [Question 3](#q3)\n",
    "6. [Conclusion](#conc)\n",
    "7. [References](#ref)"
   ]
  },
  {
   "cell_type": "code",
   "execution_count": 1,
   "id": "ae69f166",
   "metadata": {},
   "outputs": [],
   "source": [
    "# Install packages if necessary\n",
    "\n",
    "#pip3 install ipympl\n",
    "#pip install imblearn\n",
    "#pip install wordcloud\n",
    "#nltk.download(\"vader_lexicon\")"
   ]
  },
  {
   "cell_type": "code",
   "execution_count": 2,
   "id": "0306a50d",
   "metadata": {},
   "outputs": [],
   "source": [
    "# Importation all relevant modules and packages\n",
    "\n",
    "import os\n",
    "import json\n",
    "import time\n",
    "import requests\n",
    "import string\n",
    "import pandas as pd\n",
    "import numpy as np\n",
    "import seaborn as sns\n",
    "import matplotlib.pyplot as plt\n",
    "from wordcloud import WordCloud\n",
    "from collections import Counter\n",
    "from datetime import datetime\n",
    "from imblearn.over_sampling import RandomOverSampler\n",
    "from dateutil.relativedelta import relativedelta\n",
    "from bs4 import BeautifulSoup, NavigableString, Tag\n",
    "\n",
    "# Machine Learning modules\n",
    "from sklearn.model_selection import train_test_split\n",
    "from sklearn.feature_extraction.text import CountVectorizer\n",
    "from sklearn.metrics import confusion_matrix, accuracy_score\n",
    "from sklearn.naive_bayes import GaussianNB, MultinomialNB, ComplementNB\n",
    "from sklearn.svm import LinearSVC, SVC, NuSVC\n",
    "from sklearn.metrics import roc_curve, auc\n",
    "from sklearn.metrics import precision_recall_curve\n",
    "from sklearn.metrics import average_precision_score\n",
    "from sklearn.preprocessing import label_binarize\n",
    "\n",
    "# Text processing modules\n",
    "import nltk\n",
    "from nltk.corpus import stopwords\n",
    "from nltk.stem import PorterStemmer\n",
    "from nltk.tokenize import word_tokenize, sent_tokenize\n",
    "from nltk.classify.scikitlearn import SklearnClassifier\n",
    "from nltk.sentiment.vader import SentimentIntensityAnalyzer"
   ]
  },
  {
   "cell_type": "code",
   "execution_count": 3,
   "id": "7b7012bb",
   "metadata": {},
   "outputs": [],
   "source": [
    "# Setting parameters\n",
    "\n",
    "%matplotlib inline\n",
    "RANDOM_SEED = 300\n",
    "FIGSIZE = (16, 4)\n",
    "custom_params = {\"axes.spines.right\": False, \"axes.spines.top\": False}\n",
    "sns.set_theme(style=\"ticks\", rc=custom_params)\n",
    "stop_words = set(stopwords.words('english'))"
   ]
  },
  {
   "cell_type": "markdown",
   "id": "c73ca139",
   "metadata": {},
   "source": [
    "<a id='Intro'></a>\n",
    "## Introduction\n",
    "\n",
    "159+ million women worldwide use an IUD as birth control and yet women's health is still under-researched. There are a few specific sources which directly attempt to address various common myths around IUDs, so women tend to turn to more informal sources to gain the knowledge they are looking for. There have been a few previous studies analyzing the discussion of women’s health on Reddit, specifically more conventionally taboo topics regarding female sexual health (i.e. female sexual dysfunction and resuming sexual activity after birth). These studies found that women received conflicting/insufficient advice from their doctors which pushed them to ask their questions on Reddit, which has been previously criticised for its encouragment of myths and rumours. It also found that women were seeking a discussion of “psychological consequences,” which they did not find from their doctors.\n",
    "\n",
    "This project aims to explore the discussion of IUD-related information from formal and informal sources. Through careful consideration of various formal sources, such as official medical information, and from informal sources, such as Reddit forums and subreddits, we approach this discussion with the three following research questions:"
   ]
  },
  {
   "cell_type": "markdown",
   "id": "df78dae8",
   "metadata": {},
   "source": [
    "<a id='RQ'></a>\n",
    "### Research Questions\n",
    "\n",
    "1. Is Reddit a postive or negative place for women to seek information on IUDs?\n",
    "2. What are the information gaps between the formal and informal sources?\n",
    "3. How helpful is Reddit in helping people find the information they're looking for?"
   ]
  },
  {
   "cell_type": "markdown",
   "id": "5b32a646",
   "metadata": {},
   "source": [
    "### Data Description\n",
    "\n",
    "There are 3 distinct sources of data:\n",
    "\n",
    "1. Google Trends data for the term/s 'IUD', 'IUS', 'birth control', 'mirena', and 'kyleena'\n",
    "    * Exploratory source to understand the interest in the above search terms.\n",
    "2. Official Medical Information on IUD Insertion (including FAQs)\n",
    "    * Main formal source.\n",
    "    * We picked sources that could be considered impartial.\n",
    "    * The first formal source we consult is the NHS official guidelines, a UK government sponsored source.\n",
    "    * The second formal source we consult are the Mayo Clinic guidelines, a well-respected and reliable medical NGO in the US.\n",
    "    * We tried to avoid sources such as Planned Parenthood and online magazines which are often seen as left-leaning and/or politically controversial.\n",
    "3. r/BirthControl from Reddit API\n",
    "    * We make use of Reddit's API to access posts on the server. The posts from the subreddit r/BirthControl will be our main source of informal information on IUDs; we consider it informal because any user is able to post questions or unofficial/unregulated information.\n",
    "    * The Reddit API has a `flair` column, which refers to a label that Reddit users can apply to their post upon submission, which must be reviewed by the forum moderators."
   ]
  },
  {
   "cell_type": "markdown",
   "id": "d3ce5ef8",
   "metadata": {},
   "source": [
    "<a id='acq'></a>\n",
    "## Data Acquisition & Cleaning"
   ]
  },
  {
   "cell_type": "markdown",
   "id": "5ceb164e",
   "metadata": {},
   "source": [
    "### Google Trends\n"
   ]
  },
  {
   "cell_type": "markdown",
   "id": "e68925f4",
   "metadata": {},
   "source": [
    "We include the Google Trends code in another notebook titled `google_trends.ipynb`. The resulting dataframe is as follows:"
   ]
  },
  {
   "cell_type": "code",
   "execution_count": 4,
   "id": "b2b77af9",
   "metadata": {},
   "outputs": [],
   "source": [
    "# Bring date in with read_csv (parse_date and make it index also within redad_csv)\n",
    "google_trends = pd.read_csv(\"iud_google_trends.csv\", parse_dates=[0],\n",
    "                            index_col=[0], usecols=[0, 1, 2, 3, 4, 5])"
   ]
  },
  {
   "cell_type": "markdown",
   "id": "0d699be1",
   "metadata": {},
   "source": [
    "**It is demonstrated that there is a base-level of constant interest in IUD-related terms within the UK. Mirena tends to be the de facto IUD provided to consumers in the UK hence the higher level of search terms compared to Kyleena, which is a product more associated with the US markets. The NHS refers to the hormonal IUD as IUS (intrauterine system), so we have included it in our search terms; however, colloquially both the copper and hormonal device are refered to as IUD.**\n",
    "\n",
    "The spike in activity around June 2021 for the term 'IUD' is due to a public figure posting about their own experiences with the contraceptive device and their call for action regarding pain relief options."
   ]
  },
  {
   "cell_type": "code",
   "execution_count": 5,
   "id": "9fc1d022",
   "metadata": {},
   "outputs": [
    {
     "data": {
      "image/png": "[encoded data removed]",
      "text/plain": [
       "<Figure size 1152x288 with 1 Axes>"
      ]
     },
     "metadata": {},
     "output_type": "display_data"
    }
   ],
   "source": [
    "google_trends.plot(figsize=FIGSIZE)\n",
    "plt.title('Interest of IUD-related terms over time');"
   ]
  },
  {
   "cell_type": "code",
   "execution_count": 6,
   "id": "40506361",
   "metadata": {},
   "outputs": [
    {
     "data": {
      "text/html": [
       "<div>\n",
       "<style scoped>\n",
       "    .dataframe tbody tr th:only-of-type {\n",
       "        vertical-align: middle;\n",
       "    }\n",
       "\n",
       "    .dataframe tbody tr th {\n",
       "        vertical-align: top;\n",
       "    }\n",
       "\n",
       "    .dataframe thead th {\n",
       "        text-align: right;\n",
       "    }\n",
       "</style>\n",
       "<table border=\"1\" class=\"dataframe\">\n",
       "  <thead>\n",
       "    <tr style=\"text-align: right;\">\n",
       "      <th></th>\n",
       "      <th>IUD</th>\n",
       "      <th>birth control</th>\n",
       "      <th>kyleena</th>\n",
       "      <th>mirena</th>\n",
       "      <th>IUS</th>\n",
       "    </tr>\n",
       "    <tr>\n",
       "      <th>date</th>\n",
       "      <th></th>\n",
       "      <th></th>\n",
       "      <th></th>\n",
       "      <th></th>\n",
       "      <th></th>\n",
       "    </tr>\n",
       "  </thead>\n",
       "  <tbody>\n",
       "    <tr>\n",
       "      <th>2021-06-20</th>\n",
       "      <td>100</td>\n",
       "      <td>62</td>\n",
       "      <td>2</td>\n",
       "      <td>36</td>\n",
       "      <td>6</td>\n",
       "    </tr>\n",
       "  </tbody>\n",
       "</table>\n",
       "</div>"
      ],
      "text/plain": [
       "            IUD  birth control  kyleena  mirena  IUS\n",
       "date                                                \n",
       "2021-06-20  100             62        2      36    6"
      ]
     },
     "execution_count": 6,
     "metadata": {},
     "output_type": "execute_result"
    }
   ],
   "source": [
    "google_trends[google_trends['IUD'] == google_trends['IUD'].max()]"
   ]
  },
  {
   "cell_type": "markdown",
   "id": "6ebd2c27",
   "metadata": {},
   "source": [
    "### Scraping Official Health Data\n"
   ]
  },
  {
   "cell_type": "markdown",
   "id": "b05b8ff0",
   "metadata": {},
   "source": [
    "In the following section we scrape the aforementioned \"formal source\" data from the NHS and Mayo Clinic website. We used two sources to avoid bias; however, we found that both were quite similar so did not include more sources. \n",
    "\n",
    "*Note that the NHS refers to the copper IUD as IUD; whereas, IUS (Intrauterine System) refers to the hormonal version, although both are colloquially referred to as IUD. This analysis is more focused on the hormonal IUD.*"
   ]
  },
  {
   "cell_type": "code",
   "execution_count": 7,
   "id": "5ebd4359",
   "metadata": {},
   "outputs": [],
   "source": [
    "def remove_punctuation(text):\n",
    "    \"\"\"\n",
    "    Function to remove punctuation from a string of text.\n",
    "    Outputs the string with all punctuation removed.\n",
    "    \"\"\"\n",
    "    translator = str.maketrans('', '', string.punctuation)\n",
    "    return text.translate(translator)"
   ]
  },
  {
   "cell_type": "code",
   "execution_count": 8,
   "id": "dbaa24c7",
   "metadata": {},
   "outputs": [],
   "source": [
    "# Creating database of stopwords without punctuation\n",
    "stop_nopunc = []\n",
    "for i in stop_words:\n",
    "    stop_nopunc.append(remove_punctuation(i))"
   ]
  },
  {
   "cell_type": "code",
   "execution_count": 9,
   "id": "29d02f40",
   "metadata": {},
   "outputs": [],
   "source": [
    "# Webscraping NHS data\n",
    "url = 'https://www.nhs.uk/conditions/contraception/ius-intrauterine-system/'\n",
    "r = requests.get(url)\n",
    "soup = BeautifulSoup(r.content,'lxml')\n",
    "\n",
    "# The website is structured in sections\n",
    "nhs_elements = soup.find_all('section')"
   ]
  },
  {
   "cell_type": "code",
   "execution_count": 10,
   "id": "c0a19b26",
   "metadata": {},
   "outputs": [
    {
     "data": {
      "text/plain": [
       "<section>\n",
       "<h2 data-block-key=\"8zej9\">At a glance: facts about the IUS</h2><ul><li data-block-key=\"k7dh4\">When inserted correctly, it's more than 99% effective.</li><li data-block-key=\"vs0yx\">It can be taken out at any time by a specially trained doctor or nurse. It's possible to get pregnant straight after it's removed.</li><li data-block-key=\"xys6b\">It can make your periods lighter, shorter or stop altogether, so it may help people who have heavy or painful periods.</li><li data-block-key=\"blo8y\">It can be used by people who cannot use combined contraception (such as the combined pill) – for example, those who have migraines.</li><li data-block-key=\"tqrcr\">Once the IUS is in place, you do not have to think about it.</li><li data-block-key=\"zldrt\">Some people may experience side effects, such as mood swings, skin problems or breast tenderness.</li><li data-block-key=\"qp4x4\">There's a small risk of getting an infection after it's been fitted.</li><li data-block-key=\"5ped9\">It can be uncomfortable when the IUS is put in, but you can take painkillers after, if you need to.</li><li data-block-key=\"o8d0t\">The IUS can be fitted at any time during your monthly menstrual cycle, as long as you're not pregnant.</li><li data-block-key=\"1cc0y\">The IUS does not protect against <a href=\"/conditions/sexually-transmitted-infections-stis/\">sexually transmitted infections (STIs)</a>, so you may need to use condoms as well.</li></ul>\n",
       "</section>"
      ]
     },
     "execution_count": 10,
     "metadata": {},
     "output_type": "execute_result"
    }
   ],
   "source": [
    "nhs_elements[1]"
   ]
  },
  {
   "cell_type": "code",
   "execution_count": 11,
   "id": "5027ce23",
   "metadata": {},
   "outputs": [],
   "source": [
    "nhs_words = []\n",
    "\n",
    "# Get all sentences\n",
    "for i in nhs_elements:\n",
    "    txt = str(i.get_text(separator=' ', strip =True)).lower()\n",
    "    # Remove punctuation\n",
    "    txt = remove_punctuation(txt)\n",
    "    nhs_words.append(txt)"
   ]
  },
  {
   "cell_type": "code",
   "execution_count": 12,
   "id": "890bddde",
   "metadata": {},
   "outputs": [],
   "source": [
    "nhs_words_no_stop = []\n",
    "\n",
    "# Remove stop words from the sentences\n",
    "for sentence in nhs_words:\n",
    "    temp_word_ls = sentence.split()\n",
    "    for word in temp_word_ls:\n",
    "        if word in stop_words:\n",
    "            continue\n",
    "        else:\n",
    "            nhs_words_no_stop.append(word)"
   ]
  },
  {
   "cell_type": "code",
   "execution_count": 13,
   "id": "6bfef904",
   "metadata": {},
   "outputs": [],
   "source": [
    "# Creation of NHS top word counts dataframe\n",
    "nhs_word_counts = pd.value_counts(np.array(nhs_words_no_stop))\n",
    "nhs_counts_df = pd.DataFrame(nhs_word_counts, columns = ['count'])\n",
    "nhs_counts_df = nhs_counts_df.loc[nhs_counts_df['count'] > 5]"
   ]
  },
  {
   "cell_type": "markdown",
   "id": "ad0db616",
   "metadata": {},
   "source": [
    "*Note that the main Mayo Clinic article about hormonal IUD's is focused specifically on Mirena (a brand of the hormonal IUD) but the information is relevant to other hormonal IUD brands. This article is a top search result on Google (disregarding possibly biased sources).*"
   ]
  },
  {
   "cell_type": "code",
   "execution_count": 14,
   "id": "f37f880a",
   "metadata": {},
   "outputs": [],
   "source": [
    "# Mayo webscraping\n",
    "url2 = 'https://www.mayoclinic.org/tests-procedures/mirena/about/pac-20391354'\n",
    "r2 = requests.get(url2)\n",
    "soup2 = BeautifulSoup(r2.content,'lxml')\n",
    "\n",
    "# Mayo data is structured such that the information\n",
    "# is all contained in one article class\n",
    "content = soup2.find('article', 'id' == 'main-content')"
   ]
  },
  {
   "cell_type": "code",
   "execution_count": 15,
   "id": "fcf826ba",
   "metadata": {},
   "outputs": [],
   "source": [
    "# Get content and remove punctuation\n",
    "mayo_str = str(content.get_text(separator=' ', strip =True)).lower()\n",
    "mayo_str = remove_punctuation(mayo_str)\n",
    "\n",
    "mayo_words = []\n",
    "mayo_word_ls = mayo_str.split()\n",
    "\n",
    "for word in mayo_word_ls:\n",
    "    if word in stop_words:\n",
    "        continue\n",
    "        \n",
    "    # Content block ends with cited studies, which we did not want in our analysis\n",
    "    # the term \"aug\" signals the beginning of the citations & breaks out of the loop\n",
    "    elif word == 'aug':\n",
    "        break\n",
    "    else:\n",
    "        mayo_words.append(word)"
   ]
  },
  {
   "cell_type": "code",
   "execution_count": 16,
   "id": "5797ba1a",
   "metadata": {
    "scrolled": true
   },
   "outputs": [
    {
     "name": "stdout",
     "output_type": "stream",
     "text": [
      "['overview', 'mirena', 'hormonal', 'intrauterine', 'device', 'iud', 'provide', 'longterm', 'birth', 'control', 'contraception', 'device', 'tshaped', 'plastic', 'frame', 'thats', 'inserted', 'uterus', 'releases', 'type', 'hormone', 'progestin', 'prevent', 'pregnancy', 'mirena', 'thickens', 'mucus', 'cervix', 'stop', 'sperm', 'reaching', 'fertilizing', 'egg', 'thins', 'lining', 'uterus', 'partially', 'suppresses', 'ovulation', 'mirena', 'prevents', 'pregnancy', 'seven', 'years', 'insertion', 'one', 'several', 'hormonal', 'iuds']\n"
     ]
    }
   ],
   "source": [
    "print(mayo_words[1:50])"
   ]
  },
  {
   "cell_type": "code",
   "execution_count": 17,
   "id": "add4abee",
   "metadata": {},
   "outputs": [],
   "source": [
    "# Creation of Mayo top word counts dataframe\n",
    "mayo_word_counts = pd.value_counts(np.array(mayo_words))\n",
    "mayo_counts_df = pd.DataFrame(mayo_word_counts, columns = ['count'])\n",
    "mayo_counts_df = mayo_counts_df.loc[mayo_counts_df['count'] > 5]"
   ]
  },
  {
   "cell_type": "markdown",
   "id": "cf41ae15",
   "metadata": {},
   "source": [
    "- We only include words that appeared at least 5 times in the formal text because they're more likely to be relevant to the rest of the data analysis.\n",
    "- Looking at these graphs, the top words primarily concern medical officials and health care practices (note that some words are different due to cultural differences (i.e. gp vs. health care provider).\n",
    "- While pain and risk are mentioned in the top 10 words of the Mayo health website, they are towards the end of the NHS graph. This indicates that the side effects of the IUD may be under emphasized on the NHS website."
   ]
  },
  {
   "cell_type": "code",
   "execution_count": 18,
   "id": "50c55838",
   "metadata": {},
   "outputs": [
    {
     "data": {
      "image/png": "[encoded data removed]",
      "text/plain": [
       "<Figure size 1152x288 with 1 Axes>"
      ]
     },
     "metadata": {},
     "output_type": "display_data"
    },
    {
     "data": {
      "image/png": "[encoded data removed]",
      "text/plain": [
       "<Figure size 1152x288 with 1 Axes>"
      ]
     },
     "metadata": {},
     "output_type": "display_data"
    }
   ],
   "source": [
    "ax = nhs_counts_df.plot.bar(figsize = FIGSIZE, rot = 0)\n",
    "ax.set_title(\"NHS Common Word Count\")\n",
    "ax.legend().remove();\n",
    "\n",
    "ax = mayo_counts_df.plot.bar(figsize = FIGSIZE, rot = 0)\n",
    "ax.set_title(\"Mayo Common Word Count\")\n",
    "ax.legend().remove();"
   ]
  },
  {
   "cell_type": "markdown",
   "id": "f30d4b91",
   "metadata": {},
   "source": [
    "### Reddit API\n"
   ]
  },
  {
   "cell_type": "markdown",
   "id": "0dc85ef6",
   "metadata": {},
   "source": [
    "The three chosen subreddits, r/IUD, r/BirthControl and r/TwoXChromosomes, were chosen for their reputation of being open forums for female and sexual health issues.\n",
    "\n",
    "As the process returns different values everytime it is run, we include the Reddit API code in another notebook titled `reddit_api_scraping.ipynb`. There are more details on the process of data acquisition for the Reddit API in the notebook.\n",
    "\n",
    "The resulting dataframe is as follows:"
   ]
  },
  {
   "cell_type": "code",
   "execution_count": 19,
   "id": "164531aa",
   "metadata": {},
   "outputs": [],
   "source": [
    "# Creating/accessing reddit posts data file\n",
    "file_name = \"reddit_posts.csv\"\n",
    "\n",
    "if os.path.exists(file_name):\n",
    "    all_posts = pd.read_csv(file_name, parse_dates=[6], dayfirst=True)\n",
    "    all_posts.drop(all_posts.filter(regex=\"Unname\"),axis=1, inplace=True)"
   ]
  },
  {
   "cell_type": "markdown",
   "id": "05e8841a",
   "metadata": {},
   "source": [
    "**We continue the data cleaning process for the Reddit API data below. The following steps are taken to complete the data cleaning process:**\n",
    "* Removing duplicates from the dataframe on the basis of the content in all columns (as opposed to a smaller number).\n",
    "* Removing rows where there is a NaN value in the `text` field - these columns will be irrelevant once we get to the topic modelling process since there will be no content to analyse.\n",
    "* Ensure that the datetime of the post is within the past five years.\n",
    "* Finally, keeping only rows that contain IUD-related keywords."
   ]
  },
  {
   "cell_type": "code",
   "execution_count": 20,
   "id": "b3069bc2",
   "metadata": {
    "scrolled": true
   },
   "outputs": [
    {
     "name": "stdout",
     "output_type": "stream",
     "text": [
      "The number of distinct rows in the Reddit dataset is 6495 and 9 columns.\n"
     ]
    }
   ],
   "source": [
    "#intentionally assigning to a copy of a slice\n",
    "pd.options.mode.chained_assignment = None\n",
    "\n",
    "# De-duplication\n",
    "all_posts.drop_duplicates(inplace=True, ignore_index=True)\n",
    "print('The number of distinct rows in the Reddit dataset is', all_posts.shape[0],\n",
    "      'and', all_posts.shape[1], 'columns.')\n",
    "\n",
    "# Removal of NaN rows\n",
    "no_na = all_posts.dropna(axis=0, subset='text')\n",
    "no_na = no_na.reset_index(drop=True)\n",
    "\n",
    "# Removal of posts older than 5 years\n",
    "five_years_ago = pd.Timestamp.now() - pd.Timedelta(days=365 * 5)\n",
    "recent = no_na[no_na['datetime'] > five_years_ago]\n",
    "\n",
    "# Splitting up datetime and adding a date column\n",
    "recent[\"Date\"] = recent[\"datetime\"].dt.date"
   ]
  },
  {
   "cell_type": "code",
   "execution_count": null,
   "id": "34a8c9d7",
   "metadata": {},
   "outputs": [],
   "source": [
    "for i, n in recent.iterrows():\n",
    "    length = (len(n[\"text\"]))\n",
    "    recent.loc[i, 'length'] = length"
   ]
  },
  {
   "cell_type": "code",
   "execution_count": null,
   "id": "1bfc6f7d",
   "metadata": {
    "scrolled": true
   },
   "outputs": [],
   "source": [
    "recent.groupby(by=[\"subreddit\"]).count()"
   ]
  },
  {
   "cell_type": "markdown",
   "id": "17f082f0",
   "metadata": {},
   "source": [
    "Before the data cleaning process we have a sample of **6495** observations (Reddit posts). **~58%** of these are from r/TwoXChromosomes, **~3%** are from r/IUD and the remaining **~40%** are from r/Birthcontrol. The proportional distribution of posts across subreddits is an accurate indicator of how active each of these subreddits are - TwoXChromosomes is the largest and most active forum, followed by Birthcontrol and then IUD as we will demonstrate in the exploratory data analysis section below. Although the number of posts from r/IUD is significantly smaller compared to the other two subreddits, the data is highly relevant to our topic.\n",
    "\n",
    "After the data cleaning process and removal of any non-IUD-related observations we are left with a sample size of **803** rows.\n",
    "\n"
   ]
  },
  {
   "cell_type": "code",
   "execution_count": null,
   "id": "f9526fae",
   "metadata": {},
   "outputs": [],
   "source": [
    "recent['subreddit'].value_counts(normalize=True)"
   ]
  },
  {
   "cell_type": "code",
   "execution_count": null,
   "id": "aa03e36c",
   "metadata": {},
   "outputs": [],
   "source": [
    "# IUD-related rows in text/title/category\n",
    "mask = (recent['title'].str.contains(\"IUD|Mirena|Kyleena|Copper|IUS\") | \n",
    "        recent['text'].str.contains(\"IUD|Mirena|Kyleena|Copper|IUS\"))\n",
    "\n",
    "iud_posts = recent[mask]\n",
    "iud_posts = iud_posts.reset_index(drop=True)\n",
    "\n",
    "print('The number of distinct rows in the Reddit dataset with IUD-related keywords is', iud_posts.shape[0],\n",
    "      'and', iud_posts.shape[1], 'columns.')"
   ]
  },
  {
   "cell_type": "code",
   "execution_count": null,
   "id": "de199f1e",
   "metadata": {},
   "outputs": [],
   "source": [
    "iud_posts['subreddit'].value_counts(normalize=True)"
   ]
  },
  {
   "cell_type": "markdown",
   "id": "9851192a",
   "metadata": {},
   "source": [
    "<a id='eda'></a>\n",
    "## Exploratory Data Analysis"
   ]
  },
  {
   "cell_type": "markdown",
   "id": "44bfe99e",
   "metadata": {},
   "source": [
    "### Reddit Data"
   ]
  },
  {
   "cell_type": "markdown",
   "id": "55fd5065",
   "metadata": {},
   "source": [
    "We explore the characteristics of the Reddit dataset obtained from the Reddit public API using relevant visualisations."
   ]
  },
  {
   "cell_type": "code",
   "execution_count": null,
   "id": "e28cee0a",
   "metadata": {},
   "outputs": [],
   "source": [
    "fig, ax = plt.subplots(figsize=FIGSIZE)\n",
    "sns.countplot(data=iud_posts, x='subreddit', order=iud_posts['subreddit'].value_counts().index)\n",
    "ax.set_title('Number of Observations per Subreddit')\n",
    "for p in ax.patches:\n",
    "    ax.annotate(format(p.get_height(), '.0f'), \n",
    "                (p.get_x() + p.get_width() / 2., p.get_height()), \n",
    "                ha = 'center', va = 'center', \n",
    "                xytext = (0, 10), \n",
    "                textcoords = 'offset points')\n",
    "plt.show();"
   ]
  },
  {
   "cell_type": "markdown",
   "id": "b6c95028",
   "metadata": {},
   "source": [
    "**`flair` refers to a label that Reddit users can apply to their post upon submission, which must be reviewed by the forum moderators.**\n",
    "\n",
    "This visualization shows that some of the most common themes in the subreddits are related to personal experiences and side effects. The most common `flair` is \"Experience\" which aligns with previous literature in the field of women's health on anonymous forums. \n",
    "\n",
    "*As you can see here, the 'Support' `flair` from the IUD subreddit has a very low count (1)*"
   ]
  },
  {
   "cell_type": "code",
   "execution_count": null,
   "id": "b70e115c",
   "metadata": {},
   "outputs": [],
   "source": [
    "fig, ax = plt.subplots(figsize=FIGSIZE)\n",
    "ax = sns.countplot(data=iud_posts, x='flair', order=iud_posts['flair'].value_counts().index)\n",
    "ax.set_title('Number of Observations per \"Flair\"')\n",
    "for p in ax.patches:\n",
    "    ax.annotate(format(p.get_height(), '.0f'), \n",
    "                (p.get_x() + p.get_width() / 2., p.get_height()), \n",
    "                ha = 'center', va = 'center', \n",
    "                xytext = (0, 10), \n",
    "                textcoords = 'offset points')\n",
    "plt.show();"
   ]
  },
  {
   "cell_type": "markdown",
   "id": "b8c9e9a3",
   "metadata": {},
   "source": [
    "**When we don't filter for IUD-related posts, the distribution of posts, average scores of posts and average number of comments are different to when we do filter for IUD-specific posts**\n",
    "\n",
    "Below it's clear that r/TwoXChromosomes is more popular than the other two in when it comes to general activity on  subreddits. However, r/BirthControl is more engaged with IUD-related discussions which is obvious when we use data that is tailored to only IUD data."
   ]
  },
  {
   "cell_type": "code",
   "execution_count": null,
   "id": "1cc23717",
   "metadata": {},
   "outputs": [],
   "source": [
    "order=['TwoXChromosomes', 'birthcontrol', 'IUD']\n",
    "\n",
    "_, ax = plt.subplots(1, 3, figsize=FIGSIZE)\n",
    "sns.countplot(data=recent, x='subreddit', ax=ax[0], order=order)\n",
    "ax[0].set_title('Count of Posts by Subreddit', fontsize=12)\n",
    "sns.barplot(data=recent, x='subreddit', y='score', ax=ax[1], ci=None, order=order)\n",
    "ax[1].set_title('Average Post Score by Subreddit', fontsize=12)\n",
    "sns.barplot(data=recent, x='subreddit', y='num_comments', ax=ax[2], ci=None, order=order)\n",
    "ax[2].set_title('Average Number of Comments per Post by Subreddit', fontsize=12);\n",
    "\n",
    "_, ax = plt.subplots(1, 3, figsize=FIGSIZE)\n",
    "sns.countplot(data=iud_posts, x='subreddit', ax=ax[0], order=order)\n",
    "ax[0].set_title('Count of Posts by Subreddit (IUD-related)', fontsize=12)\n",
    "sns.barplot(data=iud_posts, x='subreddit', y='score', ax=ax[1], ci=None, order=order);\n",
    "ax[1].set_title('Average Post Score by Subreddit (IUD-related)', fontsize=12)\n",
    "sns.barplot(data=iud_posts, x='subreddit', y='num_comments', ax=ax[2], ci=None, order=order)\n",
    "ax[2].set_title('Average Number of Comments per Post by Subreddit (IUD-related)', fontsize=12);"
   ]
  },
  {
   "cell_type": "markdown",
   "id": "24cc5de3",
   "metadata": {},
   "source": [
    "**The following correlation chart shows us that popular posts (posts with a high score) are highly engaged with through more comments. Aside from that, there is little correlation between the continuous numeric variables in our dataset.**"
   ]
  },
  {
   "cell_type": "code",
   "execution_count": null,
   "id": "28ac55f2",
   "metadata": {},
   "outputs": [],
   "source": [
    "corr = iud_posts.corr()\n",
    "corr.style.background_gradient()"
   ]
  },
  {
   "cell_type": "markdown",
   "id": "1a13ee76",
   "metadata": {},
   "source": [
    "### Reddit Posts Through Time\n",
    "\n",
    "The following graphs show the time distribution of the Reddit posts we pull in the dataset through time. Due to constraints of the Reddit API we were limited in how many posts we could pull from each subreddit. We were able to pull the most recent posts from that subreddit until we hit maximum API limit capacity."
   ]
  },
  {
   "cell_type": "code",
   "execution_count": null,
   "id": "fab1ed81",
   "metadata": {},
   "outputs": [],
   "source": [
    "fig, axs = plt.subplots(figsize=FIGSIZE)\n",
    "ax = iud_posts.groupby(iud_posts[\"Date\"]).size().plot(\n",
    "    kind='line', rot=0, ax=axs)\n",
    "ax.set_title('Distribution of all Reddit posts by Date');"
   ]
  },
  {
   "cell_type": "markdown",
   "id": "3f5ea228",
   "metadata": {},
   "source": [
    "**The IUD subreddit has been inactive since 2022. Most of our posts come from r/TwoXChromosomes and r/birthcontrol.**"
   ]
  },
  {
   "cell_type": "code",
   "execution_count": null,
   "id": "e61c2b02",
   "metadata": {},
   "outputs": [],
   "source": [
    "day_by_subreddit_df = pd.DataFrame(iud_posts.groupby(['Date', 'subreddit']).size())\n",
    "day_by_subreddit_df = day_by_subreddit_df.unstack()\n",
    "day_by_subreddit_df.columns = day_by_subreddit_df.columns.droplevel()\n",
    "\n",
    "dates_2023 = pd.to_datetime('2022-12-31').date()\n",
    "\n",
    "_, ax = plt.subplots(1, 2, figsize=FIGSIZE)\n",
    "\n",
    "day_by_subreddit_df.loc[day_by_subreddit_df.index < dates_2023].plot(\n",
    "    title = '2022 posts: Distribution by Date and Subreddit',\n",
    "    lw=2, rot = 45, ax=ax[0])\n",
    "\n",
    "day_by_subreddit_df.loc[day_by_subreddit_df.index > dates_2023].plot(\n",
    "    title = '2023 posts: Distribution by Date and Subreddit',\n",
    "    lw=2, rot = 45, ax=ax[1]);    "
   ]
  },
  {
   "cell_type": "markdown",
   "id": "66c24786",
   "metadata": {},
   "source": [
    "<a id='process'></a>\n",
    "## Advanced Data Processing\n",
    "\n",
    "The code that follows is the beginning of the advanced analytic techniques (sentiment and quantitative text analysis) that we use to investigate our research questions."
   ]
  },
  {
   "cell_type": "markdown",
   "id": "5d39baac",
   "metadata": {},
   "source": [
    "<a id='sentiment'></a>\n",
    "### Sentiment Analysis"
   ]
  },
  {
   "cell_type": "markdown",
   "id": "cb1b10fa",
   "metadata": {},
   "source": [
    "In this section we perform a quantitative sentiment analysis using VADER sentiment analysis. The VADER lexicon contains dictionaries that capture the type of and intensity of emotions. VADER is imported from the NLTK package and provides a positive, negative, neutral, and compound score for each Reddit post. We chose to use VADER because it is relatively popular within the data science community, and understands the impact of capitalization and punctuation that is often used in informal social media posts like Reddit. In our analysis we will only use the compound sentiment score, as it gives an overall score to a text's sentiment, with -1 being negative sentiment and +1 being postiive sentiment."
   ]
  },
  {
   "cell_type": "code",
   "execution_count": null,
   "id": "c75db455",
   "metadata": {},
   "outputs": [],
   "source": [
    "sentiment = SentimentIntensityAnalyzer()"
   ]
  },
  {
   "cell_type": "code",
   "execution_count": null,
   "id": "0aa3790a",
   "metadata": {},
   "outputs": [],
   "source": [
    "for index, row in iud_posts.iterrows():\n",
    "    text = row['text']\n",
    "    score_dict =  sentiment.polarity_scores(text)\n",
    "    compound_score = score_dict['compound']\n",
    "    \n",
    "    iud_posts.loc[index,'sentiment analysis'] = compound_score"
   ]
  },
  {
   "cell_type": "markdown",
   "id": "f89096e8",
   "metadata": {},
   "source": [
    "**The following graph shows that the sentiment on Reddit is not entirely negative, but does skew slightly negative. Furthermore the most popular subreddit, r/TwoXChromosomes, appears to be the most negative because its median compound sentiment score is the lowest of all three. However all three subreddits span the sentiment score range. Therefore, the subreddits are not overtly negative.**"
   ]
  },
  {
   "cell_type": "code",
   "execution_count": null,
   "id": "e4ba7702",
   "metadata": {
    "scrolled": true
   },
   "outputs": [],
   "source": [
    "fig, ax = plt.subplots(figsize=FIGSIZE)\n",
    "plot = sns.boxplot(x=\"subreddit\", y=\"sentiment analysis\", notch = True, data=iud_posts)\n",
    "plot.set_title('Sentiment scores by Subreddit');"
   ]
  },
  {
   "cell_type": "markdown",
   "id": "5aaaf5e6",
   "metadata": {},
   "source": [
    "**The mean sentiment score within subreddits varies overtime. This measure is very sensitive to outliers due to the small n each day. In general, sentiment averages between 0 and -0.25, which aligns with our findings in the exploratory data analysis section. Interestingly, we are also able to observe the confidence intervals for each date.** "
   ]
  },
  {
   "cell_type": "code",
   "execution_count": null,
   "id": "bad2bfad",
   "metadata": {},
   "outputs": [],
   "source": [
    "iud_posts_2022 = iud_posts.loc[iud_posts['Date'] <= dates_2023]\n",
    "iud_posts_2023 = iud_posts.loc[iud_posts['Date'] > dates_2023]"
   ]
  },
  {
   "cell_type": "code",
   "execution_count": null,
   "id": "38563644",
   "metadata": {
    "scrolled": true
   },
   "outputs": [],
   "source": [
    "_, ax = plt.subplots(1, 2, figsize=FIGSIZE)\n",
    "\n",
    "sns.lineplot(data=iud_posts_2022, x='Date', y=\"sentiment analysis\",\n",
    "            color='green', label='IUD', ax=ax[0])\n",
    "ax[0].legend();\n",
    "sns.lineplot(data=iud_posts_2023, x='Date', y=\"sentiment analysis\",\n",
    "             hue='subreddit', ax=ax[1]);"
   ]
  },
  {
   "cell_type": "markdown",
   "id": "a4767937",
   "metadata": {},
   "source": [
    "**There is not a clear relationship between length and sentiment.**\n",
    "\n",
    "It is not clear from a scatterplot below what the characteristic sentiment is for each class, either. But, we are able to recognise that there is a concentration of positive sentiment scores and another concentration of more negative sentiment scores."
   ]
  },
  {
   "cell_type": "code",
   "execution_count": null,
   "id": "b4b9f636",
   "metadata": {
    "scrolled": true
   },
   "outputs": [],
   "source": [
    "fig, ax = plt.subplots(figsize=FIGSIZE)\n",
    "plot = sns.scatterplot(x=\"length\", y=\"sentiment analysis\",\n",
    "                       hue=\"flair\", data=iud_posts, s=50)\n",
    "plot.set_title('Sentiment scores per flair class');"
   ]
  },
  {
   "cell_type": "markdown",
   "id": "64b5191e",
   "metadata": {},
   "source": [
    "**But, when we separate each class into its own violin plot, we able to see more independent and unique distributions of sentiment scores.**\n",
    "\n",
    "'Experience' and 'Side effects!?' have two clear clusters of posts with either positive and/or negative sentiment scores. Whereas 'Educational' and 'How to?' are less concentrated at either end of the sentiment spectrum, aligning to the more characteristics neutral information that might be shared within those sorts of posts. Finally, we observe that 'Rant!' is bottom-heavy, suggesting a predominately negative sentiment score for posts of that `flair`."
   ]
  },
  {
   "cell_type": "code",
   "execution_count": null,
   "id": "d447d9ab",
   "metadata": {
    "scrolled": true
   },
   "outputs": [],
   "source": [
    "fig, ax = plt.subplots(figsize=FIGSIZE)\n",
    "plot = sns.violinplot(x=\"flair\", y=\"sentiment analysis\", data=iud_posts)\n",
    "plot.set_title('Sentiment scores per flair class');"
   ]
  },
  {
   "cell_type": "markdown",
   "id": "16b87e45",
   "metadata": {},
   "source": [
    "<a id='q1'></a>\n",
    "### Q1: Is Reddit a postive or negative place for women to seek information on IUDs?\n",
    "\n",
    "Women's health is widely known to be understudied and disregarded. This is likely why the Two X Chromosomes community is so strong on Reddit to begin with. However, anonymous communities have been previously criticised for their encouragment of myths and rumours. Reddit especially has a reputation for allowing hateful communities to thrive. This can be dangerous when it comes to administering medical advice, such as birth control.\n",
    "\n",
    "Overall, the sentiment analysis skews to negative values, but not overwhelmingly so. Certain `flairs` have groups of positive and negative discussions."
   ]
  },
  {
   "cell_type": "markdown",
   "id": "09d656a1",
   "metadata": {},
   "source": [
    "<a id='class'></a>\n",
    "## Classification / Tokenization\n",
    "\n",
    "In order to perform quantitative text analysis we must separate words into stemmed tokens."
   ]
  },
  {
   "cell_type": "markdown",
   "id": "7643b518",
   "metadata": {},
   "source": [
    "Whilst investigating `flair` classes, it was observed that the 'Support' class only has one value. This is not enough to train a model accurately for other potential 'Support' classifications. Therefore, the observation classified as 'Support' is removed altogether."
   ]
  },
  {
   "cell_type": "code",
   "execution_count": null,
   "id": "5afcf2c2",
   "metadata": {},
   "outputs": [],
   "source": [
    "# Drop rows where flair is NA\n",
    "flair_na = iud_posts.dropna(subset='flair')\n",
    "flair_na['flair'].value_counts()"
   ]
  },
  {
   "cell_type": "code",
   "execution_count": null,
   "id": "025a511d",
   "metadata": {},
   "outputs": [],
   "source": [
    "# Dropping 'support' classification as there is only one example\n",
    "flair_na = flair_na.drop(flair_na[flair_na['flair'] == 'Support'].index)\n",
    "\n",
    "# Keep relevant columns\n",
    "columns = ['title', 'text', 'flair','sentiment analysis']\n",
    "flair_df = flair_na[columns]"
   ]
  },
  {
   "cell_type": "code",
   "execution_count": null,
   "id": "e1afc863",
   "metadata": {},
   "outputs": [],
   "source": [
    "#intentionally assigning to a copy of a slice\n",
    "pd.options.mode.chained_assignment = None\n",
    "\n",
    "#Preprocess text columns for vectorisation\n",
    "flair_df['all_text'] = flair_df['title'].str.cat(flair_df['text'], sep=': ')\n",
    "flair_df['all_text'] = flair_df['all_text'].apply(remove_punctuation)\n",
    "flair_df['tokens'] = flair_df['all_text'].apply(lambda x: word_tokenize(x))\n",
    "flair_df['sentences'] = flair_df['all_text'].apply(lambda x: sent_tokenize(x))\n",
    "flair_df['tokens'] = flair_df['tokens'].apply(lambda x: [word for word in x if word not in stop_nopunc])\n",
    "stemmer = PorterStemmer()\n",
    "flair_df['tokens'] = flair_df['tokens'].apply(lambda x: [stemmer.stem(word) for word in x])\n",
    "flair_df['processed_text'] = flair_df['tokens'].apply(lambda x: ' '.join(x))\n",
    "\n",
    "# Vectorise text\n",
    "vectorizer = CountVectorizer()\n",
    "vectorizer.fit(flair_df['processed_text'])\n",
    "document = vectorizer.transform(flair_df['processed_text'])"
   ]
  },
  {
   "cell_type": "code",
   "execution_count": null,
   "id": "685e0274",
   "metadata": {},
   "outputs": [],
   "source": [
    "# Creating specific dataframes for high sentiment and low sentiment scores\n",
    "pos_flair_df = flair_df[flair_df['sentiment analysis'] >= 0.5]\n",
    "neg_flair_df = flair_df[flair_df['sentiment analysis'] <= -0.5]\n",
    "\n",
    "# Process strings in reddit flair data frame\n",
    "pos_text = ''\n",
    "neg_text = ''\n",
    "\n",
    "for i in pos_flair_df['processed_text']:\n",
    "    pos_text = pos_text + i\n",
    "    \n",
    "for i in neg_flair_df['processed_text']:\n",
    "    neg_text = neg_text + i"
   ]
  },
  {
   "cell_type": "markdown",
   "id": "b87174a3",
   "metadata": {},
   "source": [
    "**Now that we have created the tokenized text by sentiment scores, we can understand the differences in discourse and word choice for these separated groups of language.**"
   ]
  },
  {
   "cell_type": "code",
   "execution_count": null,
   "id": "326b3dd9",
   "metadata": {},
   "outputs": [],
   "source": [
    "# Generate wordclouds\n",
    "pos_word_cloud = WordCloud(collocations = False, background_color = 'white').generate(pos_text)\n",
    "neg_word_cloud = WordCloud(collocations = False, background_color = 'white').generate(neg_text)\n",
    "\n",
    "# Plot word clouds on the axis defined\n",
    "_, ax = plt.subplots(1, 2, figsize=FIGSIZE)\n",
    "\n",
    "ax[0].imshow(pos_word_cloud, interpolation='bilinear')\n",
    "ax[0].set_title('Positive Sentiment Scores')\n",
    "ax[0].axis('off')\n",
    "ax[1].imshow(neg_word_cloud, interpolation='bilinear')\n",
    "ax[1].set_title('Negative Sentiment Scores')\n",
    "ax[1].axis('off')\n",
    "plt.show();"
   ]
  },
  {
   "cell_type": "markdown",
   "id": "ebe48320",
   "metadata": {},
   "source": [
    "**The above wordclouds explore the common words from Reddit posts that are considered to have a positive sentiment (defined by posts with a 0.5 and more sentiment score) and next to it, a wordcloud from Reddit posts that are considered to have a negative sentiment (defined by posts with a -0.5 and less sentiment score).**\n",
    "\n",
    "In the positive graph, we read more neutral language. In the negative graph, there is much stronger language such as 'pain' and 'cramp'."
   ]
  },
  {
   "cell_type": "code",
   "execution_count": null,
   "id": "22572b81",
   "metadata": {},
   "outputs": [],
   "source": [
    "# Process strings\n",
    "nhs_str = \" \".join(i for i in nhs_words_no_stop)\n",
    "formal_text = nhs_str + mayo_str\n",
    "\n",
    "informal_text = ''\n",
    "for i in flair_df['processed_text']:\n",
    "    informal_text = informal_text + i"
   ]
  },
  {
   "cell_type": "code",
   "execution_count": null,
   "id": "8cee608f",
   "metadata": {},
   "outputs": [],
   "source": [
    "# Generate wordclouds for formal and informal sources\n",
    "formal_word_cloud = WordCloud(collocations = False, background_color = 'black').generate(formal_text)\n",
    "informal_word_cloud = WordCloud(collocations = False, background_color = 'black').generate(informal_text)\n",
    "\n",
    "# Plot wordclouds\n",
    "_, ax = plt.subplots(1, 2, figsize=FIGSIZE)\n",
    "\n",
    "ax[0].imshow(formal_word_cloud, interpolation='bilinear')\n",
    "ax[0].set_title('Formal Sources')\n",
    "ax[0].axis('off')\n",
    "ax[1].imshow(informal_word_cloud, interpolation='bilinear')\n",
    "ax[1].set_title('Informal Sources')\n",
    "ax[1].axis('off')\n",
    "plt.show()"
   ]
  },
  {
   "cell_type": "markdown",
   "id": "7c6f283f",
   "metadata": {},
   "source": [
    "<a id='q2'></a>\n",
    "### Q2: What are the information gaps between the formal and informal sources?\n",
    "\n",
    "Our analysis is interested in how formal and informal sources differ in information offered to web browsers. This analysis is motivated by previous literature that shows women turn to other open communities of women with similar questions. In order to have a preliminary comparison of the two sources we created two word clouds to see the difference in frequency of words between these sources.\n",
    "\n",
    "It is clear from that word clouds have a different themes. Some big words that we see are in this word cloud that were not present in the formal source world cloud are \"feel, period, pain, experi\" all of which are experience words. **From this analysis, it seems that people are seeking validation for experiences that they are having with birth control that formal sources do not answer.**\n"
   ]
  },
  {
   "cell_type": "markdown",
   "id": "1aa0e710",
   "metadata": {},
   "source": [
    "<a id='eval'></a>\n",
    "## Prediction and Evaluation\n",
    "Now we fit the processed text data to the classifiers and evaluate our models using ROC, Precision and Recall."
   ]
  },
  {
   "cell_type": "code",
   "execution_count": null,
   "id": "64fc0550",
   "metadata": {},
   "outputs": [],
   "source": [
    "class_dist_unbalanced = dict()\n",
    "for i, j in flair_na['flair'].value_counts().iteritems():\n",
    "    class_dist_unbalanced[i] = j\n",
    "    \n",
    "classes = ['Educational', 'Experience', 'How to?', 'Mistake or Risk?',\n",
    "           'Rant!', 'Side effects!?', 'Which Method?']"
   ]
  },
  {
   "cell_type": "code",
   "execution_count": null,
   "id": "68ff9af2",
   "metadata": {},
   "outputs": [],
   "source": [
    "X = document.toarray()\n",
    "y = flair_df['flair']"
   ]
  },
  {
   "cell_type": "code",
   "execution_count": null,
   "id": "37678874",
   "metadata": {},
   "outputs": [],
   "source": [
    "X_train, X_test, y_train, y_test = train_test_split(X, y, test_size=0.3, random_state=RANDOM_SEED)"
   ]
  },
  {
   "cell_type": "markdown",
   "id": "4c39cf85",
   "metadata": {},
   "source": [
    "**We choose to upsample the minority classes to avoid issues surrounding imbalanced classes. All classes are randomly duplicated until we have reached the number of observations of the majority class of the test class (42, at this seed we have set).**"
   ]
  },
  {
   "cell_type": "code",
   "execution_count": null,
   "id": "4f533988",
   "metadata": {},
   "outputs": [],
   "source": [
    "y_test_unbal = []\n",
    "for i in y_test:\n",
    "    y_test_unbal.append(i)\n",
    "class_dist_unbalanced_y_test = Counter(y_test_unbal)"
   ]
  },
  {
   "cell_type": "code",
   "execution_count": null,
   "id": "2c0a854a",
   "metadata": {},
   "outputs": [],
   "source": [
    "# Finding majority class\n",
    "max_key = []\n",
    "for key, val in class_dist_unbalanced_y_test.items():\n",
    "    if len(max_key) == 0:\n",
    "        max_key.extend([key, val])\n",
    "    else: \n",
    "        if val > max_key[1]:\n",
    "            max_key = [key, val] \n",
    "max_key"
   ]
  },
  {
   "cell_type": "code",
   "execution_count": null,
   "id": "b22d66c1",
   "metadata": {},
   "outputs": [],
   "source": [
    "# Create a DataFrame with the class distribution\n",
    "class_dist_df_test = pd.DataFrame({'class': list(class_dist_unbalanced_y_test.keys()),\n",
    "                   'dist': list(class_dist_unbalanced_y_test.values())})\n",
    "goal_num_obvs = max_key[1]\n",
    "\n",
    "goal_class_obvs = {c:goal_num_obvs for c in classes}\n",
    "\n",
    "# Instantiate RandomOverSampler and fit_resample to generate the oversampled data\n",
    "oversampler = RandomOverSampler(sampling_strategy = goal_class_obvs, random_state=RANDOM_SEED)\n",
    "X_resampled, y_resampled = oversampler.fit_resample(X_test, y_test)"
   ]
  },
  {
   "cell_type": "code",
   "execution_count": null,
   "id": "fe2ab2e8",
   "metadata": {},
   "outputs": [],
   "source": [
    "print(y_resampled.value_counts())"
   ]
  },
  {
   "cell_type": "markdown",
   "id": "9d8b6fac",
   "metadata": {},
   "source": [
    "**The classifiers were selected on the basis of performance for text analysis purposes. It is widely accepted in machine learning communities that Naive Bayes classifiers and linear models tend to perform most accurately for quantitative text analysis. A selection of these two supervised families of classifiers are utilised to investigate whether we can accurately predict `flair`.**"
   ]
  },
  {
   "cell_type": "code",
   "execution_count": null,
   "id": "da677095",
   "metadata": {},
   "outputs": [],
   "source": [
    "classifiers = {\"Gaussian NB\": GaussianNB(),\n",
    "               \"Multinomial NB\": MultinomialNB(),\n",
    "               \"Complement NB\": ComplementNB(),\n",
    "               \"Linear SVC\": SVC(kernel='linear', probability=True,\n",
    "                                 random_state=RANDOM_SEED, tol=1e-5,\n",
    "                                 max_iter=2000, C=0.025),\n",
    "               \"SVC\": SVC(gamma='auto', random_state=RANDOM_SEED,\n",
    "                          probability=True, max_iter=2000)}"
   ]
  },
  {
   "cell_type": "markdown",
   "id": "14091e3e",
   "metadata": {},
   "source": [
    "**The performance of each classifier's multi-classes is assessed and the mean of the multi-classes is taken for each classifier. There is the potential for some valid information lost by taking the mean; for example, the classifier may predict very well for some classes but not others.**"
   ]
  },
  {
   "cell_type": "code",
   "execution_count": null,
   "id": "bb93b513",
   "metadata": {},
   "outputs": [],
   "source": [
    "performance_dic = {}\n",
    "for name, classifier in classifiers.items():\n",
    "    # Fit and predict\n",
    "    classifier.fit(X_train, y_train)\n",
    "    y_hat = classifier.predict(X_resampled)\n",
    "    \n",
    "    # Create confusion matrix\n",
    "    unique_label = np.unique([y_resampled, y_hat])\n",
    "    cm = pd.DataFrame(confusion_matrix(y_resampled, y_hat, labels=unique_label), \n",
    "                        index=['T:{:}'.format(x) for x in unique_label], \n",
    "                        columns=['P:{:}'.format(x) for x in unique_label])\n",
    "    \n",
    "    # Calculate TPR, FPR for each class\n",
    "    stats = {'TPR':[], 'FPR':[]}\n",
    "    for i in range(cm.shape[0]):\n",
    "        tp = cm.iloc[i,i]\n",
    "        tn = np.sum(cm.values) - np.sum(cm.iloc[i,:]) - np.sum(cm.iloc[:,i]) + cm.iloc[i,i]\n",
    "        fp = np.sum(cm.iloc[:,i]) - cm.iloc[i,i]\n",
    "        fn = np.sum(cm.iloc[i,:]) - cm.iloc[i,i]\n",
    "        tpr = round(tp/(tp+fn), 2)\n",
    "        fpr = round(fp/(fp+tn), 2)\n",
    "        stats['TPR'].append(tpr)\n",
    "        stats['FPR'].append(fpr)\n",
    "    \n",
    "    # Creation of accuracy, tpr and fpr\n",
    "    stats['Accuracy'] = accuracy_score(y_resampled, y_hat)\n",
    "    performance_dic[name] = [round(stats['Accuracy'], 2),\n",
    "                         round(np.mean(stats['TPR']), 2),\n",
    "                         round(np.mean(stats['FPR']), 2)]\n",
    "\n",
    "performance_df = pd.DataFrame(performance_dic, index = ['Accuracy', 'TPR', 'FPR']).T"
   ]
  },
  {
   "cell_type": "markdown",
   "id": "ece13992",
   "metadata": {},
   "source": [
    "### Performance Evaluation"
   ]
  },
  {
   "cell_type": "markdown",
   "id": "bba1e2c6",
   "metadata": {},
   "source": [
    "Assessing each classifier using accuracy, true positive rates (TPR) and false positive rates (FPR) provides some insight into which models are classifying best.\n",
    "\n",
    "All classifiers, but the SVC model, perform similarly. However, the Complement NB and Linear SVC have the highest accuracy and TPR scores, but perform similarly for FPR. Overall, Accuracy and TPR are very low."
   ]
  },
  {
   "cell_type": "code",
   "execution_count": null,
   "id": "8525afe1",
   "metadata": {
    "scrolled": true
   },
   "outputs": [],
   "source": [
    "performance_df"
   ]
  },
  {
   "cell_type": "code",
   "execution_count": null,
   "id": "fb68a913",
   "metadata": {
    "scrolled": true
   },
   "outputs": [],
   "source": [
    "for name, perf in performance_df.T.items():\n",
    "    acc, tpr, fpr = perf\n",
    "    plt.scatter(fpr, tpr, label=f'{name} (Accuracy: {acc:.2f})', s=50)\n",
    "    \n",
    "plt.xlim(0,1); plt.ylim(0,1)\n",
    "plt.legend(loc='center left', bbox_to_anchor=(1, 0.5))\n",
    "plt.xlabel(\"False positive rate\")\n",
    "plt.ylabel(\"True positive rate\");"
   ]
  },
  {
   "cell_type": "markdown",
   "id": "b84e937d",
   "metadata": {},
   "source": [
    "### ROC and PR Curves\n",
    "\n",
    "- ROC curves visualize the trade-off between the TPR and FPR for our models using probability thresholds.\n",
    "\n",
    "- Precision-Recall (PR) curves visualize the trade-off between precision and recall for our models using probability thresholds."
   ]
  },
  {
   "cell_type": "code",
   "execution_count": null,
   "id": "740b0a9f",
   "metadata": {},
   "outputs": [],
   "source": [
    "y_hats = {}\n",
    "p_hats = {}\n",
    "for name, classifier in classifiers.items():\n",
    "    y_hats[name] = classifier.predict(X_resampled) # Predicted labels\n",
    "    p_hats[name] = classifier.predict_proba(X_resampled)[:,1] # Predicted probabilties"
   ]
  },
  {
   "cell_type": "code",
   "execution_count": null,
   "id": "7225e6c6",
   "metadata": {},
   "outputs": [],
   "source": [
    "y_test_binarized = label_binarize(y_resampled, classes=classes)"
   ]
  },
  {
   "cell_type": "code",
   "execution_count": null,
   "id": "e87bef2c",
   "metadata": {
    "scrolled": false
   },
   "outputs": [],
   "source": [
    "auc_dic = dict()\n",
    "prec_dic = dict()\n",
    "recall_dic = dict()\n",
    "\n",
    "for name, p_pred in p_hats.items():\n",
    "    \n",
    "    # Preparing data storage types\n",
    "    fpr = dict()\n",
    "    tpr = dict()\n",
    "    roc_auc = dict()\n",
    "    auc_ls = [[] for _ in range(len(classes))]\n",
    "    prec_ls = [[] for _ in range(len(classes))]\n",
    "    recall_ls = [[] for _ in range(len(classes))]\n",
    "    \n",
    "    # Calculate ROC and PR values for each class\n",
    "    for i in range(y_test_binarized.shape[1]):\n",
    "        fpr[i], tpr[i], _ = roc_curve(y_test_binarized[:, i], p_pred)\n",
    "        roc_auc[i] = auc(fpr[i], tpr[i])\n",
    "        prec_dic[i], recall_dic[i], _ = precision_recall_curve(y_test_binarized[:, i], p_pred)\n",
    "        auc_ls[i].append(roc_auc[i])\n",
    "        prec_ls[i].append(prec_dic[i])\n",
    "        recall_ls[i].append(recall_dic[i])\n",
    "    auc_dic[name] = auc_ls\n",
    "    prec_dic[name] = prec_ls\n",
    "    recall_dic[name] = recall_ls\n",
    "    \n",
    "    fig, ax = plt.subplots(1, 2, figsize=FIGSIZE)\n",
    "\n",
    "    # Plot ROC curve for each classifier\n",
    "    for i, classi in zip(range(y_test_binarized.shape[1]), classes):\n",
    "        ax[0].plot(fpr[i], tpr[i], lw=2, label='{0} (Area = {1:0.2f})'.format(classi, roc_auc[i]))\n",
    "    ax[0].plot([0, 1], [0, 1], color='black', lw=1, linestyle='--');\n",
    "    ax[0].set_xlim([-0.05, 1.0]);\n",
    "    ax[0].set_ylim([0.0, 1.05]);\n",
    "    ax[0].set_xlabel('False Positive Rate'); ax[0].set_ylabel('True Positive Rate')\n",
    "    ax[0].set_title(f'ROC curve: {name}')\n",
    "    ax[0].legend(loc='upper left');\n",
    "\n",
    "    # Plot PR curve for each classifier\n",
    "    for i, classi in zip(range(y_test_binarized.shape[1]), classes):\n",
    "        ax[1].plot(prec_dic[i], recall_dic[i], lw=2, \n",
    "                 label=f'{classi} (Avg. Prec: {average_precision_score(y_test_binarized[:, i], p_pred):.2f})')\n",
    "    ax[1].plot([1, 0], [0, 1], color='black', lw=1, linestyle='--');\n",
    "    ax[1].set_xlim([-0.05, 1.0]);\n",
    "    ax[1].set_ylim([0.0, 1.05]);\n",
    "    ax[1].set_xlabel(\"Recall\"); ax[1].set_ylabel(\"Precision\");\n",
    "    ax[1].set_title(f'PR curve: {name}')\n",
    "    ax[1].legend(loc='upper right');\n",
    "    plt.show();"
   ]
  },
  {
   "cell_type": "markdown",
   "id": "cf9c2c6c",
   "metadata": {},
   "source": [
    "**The results from this section show that classic text machine learning algorithms are not very good at classifying the Reddit posts by `flair`.**\n",
    "\n",
    "It's possible that our data set was too small, but it's also possible that the flairs are somewhat bad at delineating between posts in the dataset, which means that women might encounter information that is not helpful to their goal."
   ]
  },
  {
   "cell_type": "markdown",
   "id": "35557464",
   "metadata": {},
   "source": [
    "<a id='q3'></a>\n",
    "### Q3: How helpful is Reddit in helping people find the information they're looking for?\n",
    "\n",
    "Presumably, people go on Reddit in search of answers to a question / support for an experience they have related to their IUD. For this reason, r/birthcontrol has created flairs to help people filter through all the posts. To answer whether or not these flairs are helpful search terms and predictor of what people are looking for, we will examine how well the flairs that are present in the r/birthcontrol subbreddit can classify other relevant IUD posts on Reddit.\n",
    "\n",
    "The answer to this question is important because if the flairs are accurate, it would make it easier for women to find what they are looking for in terms of information / support on Reddit. If the flairs are not accurate, women could either: not find what they are looking for, which means that women need support from more reliable sources to answer their experience-related questions. Or, if a woman is looking under the \"which method\" or \"how to\" categories, they might stumble across negative information (i.e. negative side effect stories / rants) that DISCOURAGE them from getting a perfectly safe form of contraceptive which might improve their quality of life. In this case, formal sources need to increase their knowledge to capture these women before they resort to informal, unreliable forums, like Reddit."
   ]
  },
  {
   "cell_type": "markdown",
   "id": "a193d716",
   "metadata": {},
   "source": [
    "<a id='conc'></a>\n",
    "# Conclusion"
   ]
  },
  {
   "cell_type": "markdown",
   "id": "61cadcae",
   "metadata": {},
   "source": [
    "In conclusion, **there is a clear gap in the information that women are looking for between the formal and informal sources related to hormonal IUDs.** Formal medical sources are focused on helping individuals find information on how to get fitted for an IUD, with little content on experiences that women may face after the fact or a support community for them to join. The majority of Reddit data focuses on experiences that people have had (positive and negative) with their IUD. **The data on Reddit does not seem to have an overtly negative tone, although there is a slight negative bias in the sentiment of the posts.**\n",
    "\n",
    "However, women should still aim to get any medical advice about their experience/side effects from formal, medical sources. As we saw with the `flair` classification, the categories of the Reddit posts do not provide clear boundaries between educational, experiential, and rant-like content. Therefore, women may encounter posts being attributed to IUD insertion with little context of the anonymous users' other health/life conditions. **Our analysis indicates that users might struggle to get their questions answered on Reddit, and instead go down a Reddit \"rabbit hole\" of users' isolated experiences.**\n",
    "\n",
    "**We recommend that governments, doctors, and medical NGOs should create a reliable source to support women after IUD insertion.** This can include but should not be limited to: \n",
    "- FAQs with common experiences that women may go through after their procedure alongside medical guidance for what to do and when to see a doctor.\n",
    "- Online support groups run by medical professionals.\n",
    "- Doctor moderated forums with responses to less common experiences.\n",
    "\n",
    "**Some limitations of our analysis include:**\n",
    "- Small sample size of Reddit posts\n",
    "- Short timeframe due to Reddit API limitations\n",
    "- Time constraints and scope of analysis limited number of formal sources that we were able to analyze."
   ]
  },
  {
   "cell_type": "markdown",
   "id": "4b979f64",
   "metadata": {},
   "source": [
    "<a id='ref'></a>\n",
    "### References\n",
    "\n",
    "**Women's Health & IUDs**\n",
    "- The Journal of Sexual Medicide (https://academic.oup.com/jsm)\n",
    "- Navigating return to sex: A qualitative Reddit analysis of parents’ perceptions about the timing of resuming sex after a birth (https://www.sciencedirect.com/science/article/abs/pii/S187757562200088X?fr=RR-2&ref=pdf_download&rr=7a0c6b820b3974b1)\n",
    "- Contraceptive Use by Method 2019 (https://www.un.org/development/desa/pd/sites/www.un.org.development.desa.pd/files/files/documents/2020/Jan/un_2019_contraceptiveusebymethod_databooklet.pdf)\n",
    "- Myths and facts about the intra-uterine device (IUD) (https://www.ippf.org/blogs/myths-and-facts-about-intra-uterine-devices)\n",
    "\n",
    "**Data Sources**\n",
    "- Reddit API (https://www.reddit.com/dev/api/)\n",
    "- Google Trends API (https://trends.google.com/trends/?geo=GB)\n",
    "- Google Trends Guide (https://lazarinastoy.com/the-ultimate-guide-to-pytrends-google-trends-api-with-python/)\n",
    "- NHS Source (https://www.nhs.uk/conditions/contraception/ius-intrauterine-system/)\n",
    "- Mayo Clinic Source (https://www.mayoclinic.org/tests-procedures/mirena/about/pac-20391354)\n",
    "\n",
    "**Sentiment Score Analysis**\n",
    "- Sentimental Analysis Using VADER (https://towardsdatascience.com/sentimental-analysis-using-vader-a3415fef7664)\n",
    "\n",
    "**Quantitative Text Analysis**\n",
    "- NLTK (https://www.nltk.org/api/nltk.tokenize.html)\n",
    "- Text Tokenization (https://towardsdatascience.com/5-simple-ways-to-tokenize-text-in-python-92c6804edfc4#:~:text=2.-,Tokenization%20with%20NLTK,split%20a%20text%20into%20tokens)\n",
    "- Three Basic Steps of Quantitative Text Analysis (https://campus.sagepub.com/blog/the-3-steps-of-qta)"
   ]
  }
 ],
 "metadata": {
  "kernelspec": {
   "display_name": "Python 3 (ipykernel)",
   "language": "python",
   "name": "python3"
  },
  "language_info": {
   "codemirror_mode": {
    "name": "ipython",
    "version": 3
   },
   "file_extension": ".py",
   "mimetype": "text/x-python",
   "name": "python",
   "nbconvert_exporter": "python",
   "pygments_lexer": "ipython3",
   "version": "3.9.12"
  }
 },
 "nbformat": 4,
 "nbformat_minor": 5
}
